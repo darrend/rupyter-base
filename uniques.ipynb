{
 "cells": [
  {
   "cell_type": "markdown",
   "metadata": {},
   "source": [
    "De-dedup some android versions"
   ]
  },
  {
   "cell_type": "code",
   "execution_count": 6,
   "metadata": {},
   "outputs": [
    {
     "data": {
      "text/plain": [
       "\"25, 26, 28, 29, 30, 31, 32, 33, 34\""
      ]
     },
     "execution_count": 6,
     "metadata": {},
     "output_type": "execute_result"
    }
   ],
   "source": [
    "\"25\n",
    "29\n",
    "30\n",
    "31\n",
    "33\n",
    "34\n",
    "26;28;29\n",
    "29;30;31\n",
    "30;31\n",
    "30;31;33\n",
    "30;31;33;34\n",
    "31;33\n",
    "31;33;34\n",
    "32;33;34\n",
    "33;34\".split(/[\\n;]/).uniq.sort.join(\", \")"
   ]
  }
 ],
 "metadata": {
  "kernelspec": {
   "display_name": "Ruby 3 (iruby kernel)",
   "language": "ruby",
   "name": "ruby3"
  },
  "language_info": {
   "file_extension": ".rb",
   "mimetype": "application/x-ruby",
   "name": "ruby",
   "version": "3.3.5"
  }
 },
 "nbformat": 4,
 "nbformat_minor": 2
}
